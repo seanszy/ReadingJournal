{
 "cells": [
  {
   "cell_type": "markdown",
   "metadata": {},
   "source": [
    "##### Day 10 Reading Journal\n",
    "\n",
    "This journal includes several required exercises, but it is meant to encourage active reading more generally.  You should use the journal to take detailed notes, catalog questions, and explore the content from Think Python deeply.\n",
    "\n",
    "Reading: Review Think Python Chapters 15-17\n",
    "\n",
    "**Due: Thursday, February 23 at 12 noon**\n",
    "\n"
   ]
  },
  {
   "cell_type": "markdown",
   "metadata": {},
   "source": [
    "1. Point class\n",
    " 2. Class Time( ):\n",
    " 3. Attributes: Time.x\n",
    " 4. Instances of a class: instance = Time\n",
    " 5. Can modify objests\n",
    " 6. Funtions put within clas\n",
    " 7. Call with instance.method_name\n",
    " 8. Prototyping: Try as you go\n",
    " 9. Planning: plan ahead\n",
    " 10. __init__: method to initialize class instances\n",
    " 11. __str__: method to print\n",
    " 12. Polymorphism: can be applied to more than 1 type\n",
    " "
   ]
  },
  {
   "cell_type": "markdown",
   "metadata": {},
   "source": [
    "## [Chapter 15](http://www.greenteapress.com/thinkpython2/html/thinkpython2016.html), [Chapter 16](http://www.greenteapress.com/thinkpython2/html/thinkpython2017.html), [Chapter 17](http://www.greenteapress.com/thinkpython2/html/thinkpython2018.html)\n",
    "\n",
    "\n",
    "By the end of chapter 17, we have all the tools we need to create our own user-defined types known as classes. In this reading journal, we're asking you to review and solidify your understanding of this material so we can build on it for the rest of the course. \n",
    "\n",
    "If you didn't get a chance to fully complete the Day 9 reading journal, you may want to do so now."
   ]
  },
  {
   "cell_type": "markdown",
   "metadata": {
    "problem": "Terminology"
   },
   "source": [
    "### Terminology\n",
    "\n",
    "You should be familiar with the following list of terms and concepts. If any of them are unclear to you, re-read, ask, write a definition in your own words, and try an example if appropriate.\n",
    "\n",
    " - class\n",
    " - object\n",
    " - instance\n",
    " - attribute\n",
    " - method\n",
    " - shallow vs deep copying\n",
    " - pure functions vs modifiers\n",
    " - initializing object instances\n",
    " "
   ]
  },
  {
   "cell_type": "markdown",
   "metadata": {
    "is_question": true,
    "problem": "Exercise 1"
   },
   "source": [
    "### Exercise\n",
    "\n",
    "We're going to take the first steps toward writing a calendar application. To keep things simple, we'll restrict ourselves to a single day for now. Write an `Event` class with the following attributes:\n",
    "\n",
    " - `name`  : Title for the `Event`\n",
    " - `start` : `Time` object representing the start time for the `Event`\n",
    " - `end`   : `Time` object representing the end time for the `Event`\n",
    "\n",
    "You can also augment your `Event` class with additional attributes, such as location and attendees.\n",
    "\n",
    "Write `__init__` and `__str__` methods for your `Event` class."
   ]
  },
  {
   "cell_type": "code",
   "execution_count": 17,
   "metadata": {
    "collapsed": false,
    "solution": "Exercise 1"
   },
   "outputs": [
    {
     "name": "stdout",
     "output_type": "stream",
     "text": [
      "Event:EVENT  Start:START  End:END\n"
     ]
    }
   ],
   "source": [
    "class Time():\n",
    "    \"\"\"Time of Event\"\"\"\n",
    "    pass\n",
    "    \n",
    "class Event():\n",
    "    \"\"\" Event Class\"\"\"\n",
    "    \n",
    "    def __init__(self, name, time):\n",
    "        self.name = name\n",
    "        self.start = time.start\n",
    "        self.end = time.end        \n",
    "    \n",
    "    def __str__(self):\n",
    "        return (\"Event:\" +  str(self.name) + \"  Start:\" + str(self.start) + \"  End:\" + str(self.end))\n",
    "\n",
    "time = Time()\n",
    "time.start = \"START\"\n",
    "time.end = \"END\"\n",
    "event = Event(\"EVENT\", time)\n",
    "print(event)"
   ]
  },
  {
   "cell_type": "markdown",
   "metadata": {
    "is_question": true,
    "problem": "Exercise 2"
   },
   "source": [
    "### Exercise\n",
    "\n",
    "Write a `duration` method that returns the duration of the `Event` in minutes."
   ]
  },
  {
   "cell_type": "code",
   "execution_count": 32,
   "metadata": {
    "collapsed": false,
    "solution": "Exercise 2"
   },
   "outputs": [
    {
     "name": "stdout",
     "output_type": "stream",
     "text": [
      "3 3\n",
      "210\n",
      "392\n",
      "182\n",
      "Event:EVENT  Start:3:30  End:6:32\n"
     ]
    }
   ],
   "source": [
    "class Time():\n",
    "    \"\"\"Time of Event\"\"\"\n",
    "    pass\n",
    "    \n",
    "class Event():\n",
    "    \"\"\" Event Class\"\"\"\n",
    "    \n",
    "    def __init__(self, name, time):\n",
    "        self.name = name\n",
    "        self.start = time.start\n",
    "        self.end = time.end        \n",
    "    \n",
    "    def __str__(self):\n",
    "        return (\"Event:\" +  str(self.name) + \"  Start:\" + str(self.start) + \"  End:\" + str(self.end))\n",
    "\n",
    "    def duration(self):\n",
    "        minutes_time_start = int(self.start[0])*60 + int(self.start[2:4])\n",
    "        minutes_time_end = int(self.end[0])*60 + int(self.end[2:4])\n",
    "        time_in_minutes = minutes_time_end - minutes_time_start\n",
    "        print(time_in_minutes)\n",
    "        return (time_in_minutes)\n",
    "\n",
    "    \n",
    "time = Time()\n",
    "time.start = '3:30'\n",
    "time.end = '6:32'\n",
    "event = Event(\"EVENT\", time)\n",
    "Event.duration(event)\n",
    "print(event)"
   ]
  },
  {
   "cell_type": "markdown",
   "metadata": {
    "is_question": true,
    "problem": "Exercise 3"
   },
   "source": [
    "### Exercise\n",
    "\n",
    "Write an `Agenda` class that contains several `Event`s for the day.\n",
    "\n",
    "**Quick check: ** How should you store `Event`s within your `Agenda` class?\n"
   ]
  },
  {
   "cell_type": "markdown",
   "metadata": {},
   "source": [
    "store it within a list"
   ]
  },
  {
   "cell_type": "markdown",
   "metadata": {},
   "source": [
    " "
   ]
  },
  {
   "cell_type": "markdown",
   "metadata": {},
   "source": [
    "Your `Agenda` class should include a `print_agenda` method that prints out your schedule for the day, in order.\n",
    "\n",
    "**Optional:** Include a `is_feasible` method that returns `True` if your schedule has no time conflicts. You may want to write additional helper methods for the `Event` class to make this easier."
   ]
  },
  {
   "cell_type": "code",
   "execution_count": 9,
   "metadata": {
    "collapsed": false,
    "solution": "Exercise 3"
   },
   "outputs": [
    {
     "name": "stdout",
     "output_type": "stream",
     "text": [
      "182\n",
      "Event:EVENT  Start:3:30  End:6:32\n",
      "Event:EVENT2  Start:3:31  End:6:45\n"
     ]
    }
   ],
   "source": [
    "class Time():\n",
    "    \"\"\"Time of Event\"\"\"\n",
    "    pass\n",
    "    \n",
    "class Event():\n",
    "    \"\"\" Event Class\"\"\"\n",
    "    \n",
    "    def __init__(self, name, time):\n",
    "        self.name = name\n",
    "        self.start = time.start\n",
    "        self.end = time.end        \n",
    "    \n",
    "    def __str__(self):\n",
    "        return (\"Event:\" +  str(self.name) + \"  Start:\" + str(self.start) + \"  End:\" + str(self.end))\n",
    "\n",
    "    def duration(self):\n",
    "        minutes_time_start = int(self.start[0])*60 + int(self.start[2:4])\n",
    "        minutes_time_end = int(self.end[0])*60 + int(self.end[2:4])\n",
    "        time_in_minutes = minutes_time_end - minutes_time_start\n",
    "        print(time_in_minutes)\n",
    "        return (time_in_minutes)\n",
    "\n",
    "class Agenda():\n",
    "    \"\"\"Agenda Class\"\"\"\n",
    "    \n",
    "    def __init__(self, Event_list):\n",
    "        self.events = Event_list\n",
    "    def __str__(self):\n",
    "        eventList = sorted(self.events, key = lambda x: x.start)\n",
    "        return '\\n'.join([obj.__str__() for obj in eventList])\n",
    "            \n",
    "        \n",
    "    \n",
    "time = Time()\n",
    "time.start = '3:30'\n",
    "time.end = '6:32'\n",
    "event = Event(\"EVENT\", time)\n",
    "time2 = Time()\n",
    "time2.start = '3:31'\n",
    "time2.end = '6:45'\n",
    "event2 = Event(\"EVENT2\", time2)\n",
    "Event.duration(event)\n",
    "agenda = Agenda([event, event2])\n",
    "print(agenda)"
   ]
  },
  {
   "cell_type": "markdown",
   "metadata": {
    "is_question": true,
    "problem": "Exercise 4"
   },
   "source": [
    "### Going Beyond (optional)\n",
    "\n",
    "Some ideas for taking your application further:\n",
    " - Add people and/or places to the mix to create a scheduling assistant\n",
    " - Extend support for day-of-week or full date. A word of warning: dealing with dates and times in real applications is difficult due to the huge number of special cases (Perfect example: this reading journal is due on Leap Day). Consider using something like the Python [datetime](https://docs.python.org/3/library/datetime.html) module.\n",
    " - Use pickle or some other persistence strategy to save and load your `Agenda`."
   ]
  },
  {
   "cell_type": "code",
   "execution_count": null,
   "metadata": {
    "collapsed": true,
    "solution": "Exercise 4"
   },
   "outputs": [],
   "source": []
  },
  {
   "cell_type": "markdown",
   "metadata": {
    "poll_response": true,
    "solution": "Time spent"
   },
   "source": [
    " "
   ]
  },
  {
   "cell_type": "markdown",
   "metadata": {
    "is_question": true,
    "problem": "Feedback"
   },
   "source": [
    "## Reading Journal feedback\n",
    "\n",
    "[Please complete this short survey](https://docs.google.com/forms/d/e/1FAIpQLScQekhUrf6YYjpfQiAAbavLIA-IJklv_PX1BWbGgxj7JPolmw/viewform?c=0&w=1)\n",
    "\n",
    "If you have any comments on this Reading Journal, feel free to leave them in the survey linked above. This could include suggestions to improve the exercises, topics you'd like to see covered in class next time, or other feedback.\n",
    "\n",
    "If you have Python questions or run into problems while completing the reading, you should post them to Piazza instead so you can get a quick response before your journal is submitted."
   ]
  },
  {
   "cell_type": "markdown",
   "metadata": {
    "feedback_response": true,
    "solution": "Feedback"
   },
   "source": [
    " "
   ]
  }
 ],
 "metadata": {
  "kernelspec": {
   "display_name": "Python 3",
   "language": "python",
   "name": "python3"
  },
  "language_info": {
   "codemirror_mode": {
    "name": "ipython",
    "version": 3
   },
   "file_extension": ".py",
   "mimetype": "text/x-python",
   "name": "python",
   "nbconvert_exporter": "python",
   "pygments_lexer": "ipython3",
   "version": "3.5.2"
  }
 },
 "nbformat": 4,
 "nbformat_minor": 0
}
