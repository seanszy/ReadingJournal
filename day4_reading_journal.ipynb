{
 "cells": [
  {
   "cell_type": "markdown",
   "metadata": {},
   "source": [
    "# Day 4 Reading Journal\n",
    "\n",
    "This journal includes several required exercises, but it is meant to encourage active reading more generally.  You should use the journal to take detailed notes, catalog questions, and explore the content from Think Python deeply.\n",
    "\n",
    "Reading: Think Python Chapter 10\n",
    "\n",
    "**Due: Monday, January 30 at 12 noon**\n",
    "\n"
   ]
  },
  {
   "cell_type": "markdown",
   "metadata": {},
   "source": [
    "1. Lists\n",
    "2. Lists are a collection of other types\n",
    "3. Lists are mutable\n",
    "4. You can access individual parts of lists list[1] or list[1:3]\n",
    "5. There are a bunch of different list editors .append() .join() .extend() etc.\n",
    "6. += operator is easy way to add to lists\n",
    "7. Accumulator: Used to calculate totals one step at a time\n",
    "8. Operation for this is called a reduce\n",
    "9. Map: Adapts elements of one list\n",
    "10. Filter: Takes parts of one list and puts them together\n",
    "11. .pop(): delete list element\n",
    "12. .remove('a'): removes list item\n",
    "13. del t[1:5]: deletes a slice from index 1:4\n",
    "14. lits(s): converts string to list\n",
    "15. s.split('delimiter'): splits list based on delimiter\n",
    "16. There is a difference between same the same value and same object\n",
    "17. String typically create 1 string object, lists typically create 2\n",
    "18. You can have problems if one list is created because when it is edited so are other lists referencing it\n",
    "19. Aliased: Variable is referenced to two things : B = ['A] and B = A\n",
    "20. If item is mutable, changing one changes the other\n",
    "21. .append() modifies list + creates new list\n",
    "*The notes from the beginning of chapter 10 is in day 3 reading journal"
   ]
  },
  {
   "cell_type": "markdown",
   "metadata": {},
   "source": [
    "## [Chapter 10](http://www.greenteapress.com/thinkpython2/html/thinkpython2011.html)\n",
    "\n",
    "You may want to review [state diagrams in Chapter 2](http://www.greenteapress.com/thinkpython22/html/thinkpython003.html#toc13). [Python Tutor](http://pythontutor.com/) is also helpful for visualizing the state of your program.\n",
    "\n"
   ]
  },
  {
   "cell_type": "markdown",
   "metadata": {},
   "source": [
    "### Exercise 10.3 \n",
    "Write a function called `middle` that takes a list and returns a new list that contains all but the first and last elements. So `middle([1,2,3,4])` should return `[2,3]`."
   ]
  },
  {
   "cell_type": "code",
   "execution_count": 6,
   "metadata": {
    "collapsed": false
   },
   "outputs": [
    {
     "data": {
      "text/plain": [
       "['2', '3', '4', '5']"
      ]
     },
     "execution_count": 6,
     "metadata": {},
     "output_type": "execute_result"
    }
   ],
   "source": [
    "def middle(lists):\n",
    "    lists_two = lists[1:len(lists)-1]\n",
    "    return lists_two"
   ]
  },
  {
   "cell_type": "markdown",
   "metadata": {},
   "source": [
    "### Exercise 10.4 \n",
    "Write a function called `chop` that takes a list, modifies it by removing the first and last elements, and returns `None`.\n",
    "\n",
    "What is the difference between `middle` and `chop`? Sketch out the program state or take a look at each in Python Tutor and answer the question in the Markdown cell below."
   ]
  },
  {
   "cell_type": "code",
   "execution_count": 9,
   "metadata": {
    "collapsed": false
   },
   "outputs": [],
   "source": [
    "def chop(lists):\n",
    "    lists = lists[1:len(lists)-1]\n",
    "    return None"
   ]
  },
  {
   "cell_type": "markdown",
   "metadata": {},
   "source": [
    "This function edits teh list, but it does not return it. When this function ends, the list has been changed, but the function doesn't return anything. The above equation keeps the original lists the same while also making a new list that returns all but the first and last elements."
   ]
  },
  {
   "cell_type": "markdown",
   "metadata": {},
   "source": [
    "### Exercise 10.6 \n",
    "Two words are anagrams if you can rearrange the letters from one to spell the other. Write a function called `is_anagram` that takes two strings and returns `True` if they are anagrams."
   ]
  },
  {
   "cell_type": "code",
   "execution_count": 18,
   "metadata": {
    "collapsed": false
   },
   "outputs": [
    {
     "data": {
      "text/plain": [
       "False"
      ]
     },
     "execution_count": 18,
     "metadata": {},
     "output_type": "execute_result"
    }
   ],
   "source": [
    "def is_anagram(anagram, anagram_two):\n",
    "    if len(anagram) != len(anagram_two):\n",
    "        return False\n",
    "    \n",
    "    count = 0\n",
    "    for i in anagram:\n",
    "        if i != anagram_two[count]:\n",
    "            return False\n",
    "        \n",
    "        count = count + 1\n",
    "    return True"
   ]
  },
  {
   "cell_type": "markdown",
   "metadata": {},
   "source": [
    "### Exercise 10.8  \n",
    "The (so-called) Birthday Paradox: <br /><br />\n",
    "1\\. Write a function called `has_duplicates` that takes a list and returns `True` if there is any element that appears more than once. It should not modify the original list.\n",
    "\n",
    "2\\. If there are 23 students in your class, what are the chances that two of you have the same birthday? Put your answer in the Markdown cell below. You can estimate this probability by generating random samples of 23 birthdays and checking for matches. Hint: you can generate random birthdays with the randint function from the [random module](https://docs.python.org/2/library/random.html).\n",
    "\n",
    "You can read about this problem at http://en.wikipedia.org/wiki/Birthday_paradox, and you can download Allen's solution from http://greenteapress.com/thinkpython2/code/birthday.py."
   ]
  },
  {
   "cell_type": "markdown",
   "metadata": {},
   "source": [
    "About 50%"
   ]
  },
  {
   "cell_type": "code",
   "execution_count": 40,
   "metadata": {
    "collapsed": false
   },
   "outputs": [],
   "source": [
    "def has_duplicates(lists):\n",
    "    lists.sort()\n",
    "    count = 1\n",
    "    for i in range(len(lists)-1):\n",
    "        if lists[count-1] == lists[count]:\n",
    "            return True\n",
    "        count = count + 1\n",
    "    return False"
   ]
  },
  {
   "cell_type": "code",
   "execution_count": 62,
   "metadata": {
    "collapsed": false
   },
   "outputs": [
    {
     "data": {
      "text/plain": [
       "'0.503%'"
      ]
     },
     "execution_count": 62,
     "metadata": {},
     "output_type": "execute_result"
    }
   ],
   "source": [
    "def has_duplicates(lists):\n",
    "    lists.sort()\n",
    "    count = 1\n",
    "    for i in range(len(lists)-1):\n",
    "        if lists[count-1] == lists[count]:\n",
    "            return True\n",
    "        count = count + 1\n",
    "    return False\n",
    "\n",
    "def calculate_probability(int):\n",
    "    from random import randint\n",
    "    lists = []\n",
    "    count = 0\n",
    "    for y in range (int):\n",
    "        lists = []\n",
    "        for i in range (23):\n",
    "            current_birthday = randint(1,365)\n",
    "            lists.append(current_birthday)\n",
    "        Boolean = has_duplicates(lists)\n",
    "        if Boolean == True:\n",
    "            count = count+1\n",
    "    percent = count/int\n",
    "    percent = str(percent) + \"%\"\n",
    "    return percent\n",
    "        \n",
    "calculate_probability(1000)"
   ]
  },
  {
   "cell_type": "markdown",
   "metadata": {},
   "source": [
    "The percentage is roughly 50%."
   ]
  },
  {
   "cell_type": "markdown",
   "metadata": {},
   "source": [
    "### Challenge: Exercise 10.10 (optional)\n",
    "\n",
    "You should read [Chapter 9.1](http://www.greenteapress.com/thinkpython2/html/thinkpython2010.html) and do Exercise 1 first.\n",
    "\n",
    "To check whether a word is in the word list, you could use the `in` operator, but it would be relatively slow because it searches through the words in order (try it).\n",
    "\n",
    "Because the words are in alphabetical order, we can speed things up with a bisection search (also known as binary search), which is similar to what you do when you look a word up in the dictionary. You start in the middle and check to see whether the word you are looking for comes before the word in the middle of the list. If so, then you search the first half of the list the same way. Otherwise you search the second half.\n",
    "\n",
    "Either way, you cut the remaining search space in half. If the word list has 113,809 words, it will take about 17 steps to find the word or conclude that it’s not there.\n",
    "\n",
    "Write a function called `bisect` that takes a sorted list and a target value and returns the index of the value in the list, if it’s there, or `None` if it’s not.\n",
    "\n",
    "Or you could read the documentation of the `bisect` module and use that! Solution: http://greenteapress.com/thinkpython2/code/inlist.py."
   ]
  },
  {
   "cell_type": "code",
   "execution_count": 125,
   "metadata": {
    "collapsed": false
   },
   "outputs": [
    {
     "data": {
      "text/plain": [
       "'None'"
      ]
     },
     "execution_count": 125,
     "metadata": {},
     "output_type": "execute_result"
    }
   ],
   "source": [
    "def find_alphabetical(current_guess, target):\n",
    "    list_two = [current_guess, target]\n",
    "    list_two.sort()\n",
    "    if target == list_two[0]:\n",
    "        return 0\n",
    "    return 1\n",
    "\n",
    "def bisect(lists, target):\n",
    "    find_word = False\n",
    "    count = -1\n",
    "    return_index = 0\n",
    "    while find_word == False:\n",
    "        count = count + 1\n",
    "        side = 0\n",
    "        half = len(lists)/2\n",
    "        end = len(lists)\n",
    "        is_target_here = int(half)\n",
    "        if len(lists) == 0:\n",
    "            return \"None\"\n",
    "        current_guess = lists[is_target_here]\n",
    "        if current_guess == target:\n",
    "            return_index = return_index + is_target_here\n",
    "            return return_index\n",
    "        left_right = find_alphabetical(current_guess, target)\n",
    "        if count == 0:\n",
    "            if left_right == 1:\n",
    "                return_index = return_index -1\n",
    "        if left_right == 0:\n",
    "            lists = lists[0:int(half/2+1)]\n",
    "        else:\n",
    "            lists = lists[int(half/2)+1:]\n",
    "            return_index = return_index + is_target_here\n",
    "    return \"No Solution\"\n",
    "        \n",
    "bisect(['apple', 'bat', 'cat', 'dog', 'elephant', 'flight', 'gator', 'giraffe'], 'flights')"
   ]
  },
  {
   "cell_type": "markdown",
   "metadata": {},
   "source": [
    "## Reading Journal feedback\n",
    "\n",
    "Have any comments on this Reading Journal? Feel free to leave them [here](https://goo.gl/forms/hZqCUAi4ir7hVN6x2) and we'll read them when you submit your journal entry. This could include suggestions to improve the exercises, topics you'd like to see covered in class next time, or other feedback.\n",
    "\n",
    "If you have Python questions or run into problems while completing the reading, you should post them to Piazza instead so you can get a quick response before your journal is submitted."
   ]
  },
  {
   "cell_type": "markdown",
   "metadata": {},
   "source": [
    "The complixity of this journal was definitly increased from what it has been"
   ]
  }
 ],
 "metadata": {
  "kernelspec": {
   "display_name": "Python 3",
   "language": "python",
   "name": "python3"
  },
  "language_info": {
   "codemirror_mode": {
    "name": "ipython",
    "version": 3
   },
   "file_extension": ".py",
   "mimetype": "text/x-python",
   "name": "python",
   "nbconvert_exporter": "python",
   "pygments_lexer": "ipython3",
   "version": "3.5.2"
  }
 },
 "nbformat": 4,
 "nbformat_minor": 0
}
