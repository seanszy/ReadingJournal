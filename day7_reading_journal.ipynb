{
 "cells": [
  {
   "cell_type": "markdown",
   "metadata": {},
   "source": [
    "# Day 7 Reading Journal\n",
    "\n",
    "This journal includes several required exercises, but it is meant to encourage active reading more generally.  You should use the journal to take detailed notes, catalog questions, and explore the content from Think Python deeply.\n",
    "\n",
    "Reading: Think Python Chapter 11, 12\n",
    "\n",
    "**Due: Monday, February 13 at 12 noon**\n",
    "\n"
   ]
  },
  {
   "cell_type": "markdown",
   "metadata": {},
   "source": [
    "1. Create Dictionary var_name = dict()\n",
    "2. Add Items: var_name['hello'] = 'hola'\n",
    " 2.     Key = hello, Value = 'hola'\n",
    "3. More than one value: var_name = {'one}: 'uno', 'two': 'dos'}\n",
    "4. Lookup: var_name['one']\n",
    " 4. Returns 'uno'\n",
    "5. Is a key in dictionary: 'one' in var_name\n",
    "6. Value in dictionary: vals = var_name.values() /n 'uno' in vals\n",
    "7. Histogram: statistical term for collection of counters\n",
    "8. h.get('a', 0): returns a's value or default value of 0\n",
    "9. Raise statement: causes an exception\n",
    " 9. Raise LookupError('value does not appear in this dictionary')\n",
    "10. Keys must be hashable: hash: function taht takes a value and returns integer\n",
    "11. Memo: A previously computed value that is stored\n",
    "12. Global variable: used outside a method\n",
    " 12. Reassign Global Variable: inside function say global var_name\n",
    " "
   ]
  },
  {
   "cell_type": "markdown",
   "metadata": {},
   "source": [
    "## [Chapter 11](http://www.greenteapress.com/thinkpython/html/thinkpython012.html)\n"
   ]
  },
  {
   "cell_type": "markdown",
   "metadata": {},
   "source": [
    "**Quick check:** In about one sentence using your own words, what is a dictionary?"
   ]
  },
  {
   "cell_type": "markdown",
   "metadata": {},
   "source": [
    "A dictionary is a collection of values that correspond to certain keywords."
   ]
  },
  {
   "cell_type": "markdown",
   "metadata": {},
   "source": [
    " "
   ]
  },
  {
   "cell_type": "markdown",
   "metadata": {
    "is_question": true,
    "problem": "Exercise 11.2"
   },
   "source": [
    "### Exercise 11.2  \n",
    "\n",
    "Dictionaries have a method called [`get`](https://docs.python.org/3/library/stdtypes.html#mapping-types-dict) that takes a key and a default value. If the key appears in the dictionary, `get` returns the corresponding value; otherwise it returns the default value. For example:\n",
    "\n",
    "```\n",
    ">>> h = histogram('a')\n",
    ">>> print h\n",
    "{'a': 1}\n",
    ">>> h.get('a', 0)\n",
    "1\n",
    ">>> h.get('b', 0)\n",
    "0\n",
    "```\n",
    "\n",
    "Use `get` to write `histogram` more concisely. You should be able to eliminate the `if` statement. Add unit tests for your histogram implementation."
   ]
  },
  {
   "cell_type": "code",
   "execution_count": 15,
   "metadata": {
    "collapsed": false,
    "solution": "Exercise 11.2"
   },
   "outputs": [
    {
     "data": {
      "text/plain": [
       "{'e': 1, 'h': 1, 'l': 2, 'o': 1}"
      ]
     },
     "execution_count": 15,
     "metadata": {},
     "output_type": "execute_result"
    }
   ],
   "source": [
    "def histogram(s):\n",
    "    d = dict()\n",
    "    for c in s:\n",
    "        w = d.get(c, 0)\n",
    "        d[c] = w + 1\n",
    "    return d\n",
    "\n",
    "histogram('hello')"
   ]
  },
  {
   "cell_type": "markdown",
   "metadata": {},
   "source": [
    " "
   ]
  },
  {
   "cell_type": "markdown",
   "metadata": {
    "is_question": true,
    "problem": "Exercise 11.4"
   },
   "source": [
    "### Exercise 11.4  \n",
    "\n",
    "Modify `reverse_lookup` so that it builds and returns a list of all keys that map to `v`, or an empty list if there are none. Add unit tests for your implementation."
   ]
  },
  {
   "cell_type": "code",
   "execution_count": 30,
   "metadata": {
    "collapsed": false,
    "solution": "Exercise 11.4"
   },
   "outputs": [
    {
     "data": {
      "text/plain": [
       "['two', 'one']"
      ]
     },
     "execution_count": 30,
     "metadata": {},
     "output_type": "execute_result"
    }
   ],
   "source": [
    "var_name = {'one': 'uno', 'two': 'uno'}\n",
    "\n",
    "def reverse_lookup(d, v):\n",
    "    value_list = []\n",
    "    for k in d:\n",
    "        if d[k] == v:\n",
    "          value_list.append(k)  \n",
    "    return(value_list)\n",
    "reverse_lookup(var_name, 'uno')"
   ]
  },
  {
   "cell_type": "markdown",
   "metadata": {},
   "source": [
    "If you'd like to learn more about errors and exceptions, you can check out the [Python tutorial](https://docs.python.org/3/tutorial/errors.html) or read ahead to [Appendix A](http://www.greenteapress.com/thinkpython2/html/thinkpython2021.html) of Think Python. If you choose to use doctest for your unit testing, it can also [deal with exceptions](https://docs.python.org/3/library/doctest.html#what-about-exceptions)."
   ]
  },
  {
   "cell_type": "markdown",
   "metadata": {},
   "source": [
    " "
   ]
  },
  {
   "cell_type": "markdown",
   "metadata": {},
   "source": [
    "**Quick check** What type of objects can be used as keys to a dictionary, i.e. what property must they have?"
   ]
  },
  {
   "cell_type": "markdown",
   "metadata": {},
   "source": [
    "The keys of a dictionary must be hashable. This occurs when they have the characteristic of being immutable."
   ]
  },
  {
   "cell_type": "markdown",
   "metadata": {},
   "source": [
    " "
   ]
  },
  {
   "cell_type": "markdown",
   "metadata": {
    "is_question": true,
    "problem": "Exercise 11.6"
   },
   "source": [
    "### Exercise 11.6 (modified)\n",
    "\n",
    "Create a memoized version of your Levenshtein distance function from Day 7. What kind of performance change do you see?\n",
    "\n",
    "Optional: If you'd like to get some quantitative results, you could check out the [timeit](https://docs.python.org/3/library/timeit.html) module\n",
    "\n",
    "Note: You can also study Fibonacci here if you prefer."
   ]
  },
  {
   "cell_type": "code",
   "execution_count": 1,
   "metadata": {
    "collapsed": false,
    "solution": "Exercise 11.6"
   },
   "outputs": [
    {
     "data": {
      "text/plain": [
       "{0: 1, 1: 1, 2: 2, 3: 3, 4: 5, 5: 8, 6: 13, 7: 21, 8: 34, 9: 55}"
      ]
     },
     "execution_count": 1,
     "metadata": {},
     "output_type": "execute_result"
    }
   ],
   "source": [
    "#fibonacci\n",
    "def memoized_fibonacci(n):\n",
    "    dictionary = dict()\n",
    "    dictionary[0] = 1\n",
    "    dictionary[1] = 1\n",
    "    number_list = [1, 1]\n",
    "    for c in range(n-2):\n",
    "        new_number = dictionary.get(c) + dictionary.get(c+1)\n",
    "        dictionary[c+2] = new_number\n",
    "        number_list.append(new_number)   \n",
    "    return number_list\n",
    "memoized_fibonacci(10)"
   ]
  },
  {
   "cell_type": "markdown",
   "metadata": {},
   "source": [
    " This sequence will run significantly faster than the other version. This is because the funciton does not have to calculate the lower steps of function each time it runs. Instead it just looks in the dictionary to find the previous values."
   ]
  },
  {
   "cell_type": "markdown",
   "metadata": {},
   "source": [
    "## [Chapter 12](http://www.greenteapress.com/thinkpython2/html/thinkpython2013.html)\n",
    "\n",
    "**Quick check:** In about one sentence using your own words, what is a tuple?"
   ]
  },
  {
   "cell_type": "markdown",
   "metadata": {},
   "source": [
    "1. Chapter 12 Notes\n",
    "2. Declare Tuple: t= 'a', 'b'\n",
    "3. 1 element Tuple: t1 = 'a',\n",
    "4. t = tuple(): creates empty tuple\n",
    "5. t = tuple('hi') = ('h', 'i')\n",
    "6. t[1:3] = tuple from 1 to 3\n",
    "7. Can replace tuple: t = ('a') + t[1:]\n",
    "8. Swap tuples: a, b = b, a\n",
    "9. divmod(x, y): returns tuple of divided numbers with remainder\n",
    "10. quot, rem = divmod(7, 3): returns quot = 2, rem = 1\n",
    "11. Parameter name that begins iwth * gathers arguments in tuple\n",
    "12. Will also scatter if start with * and is only one item\n",
    "13. zip: takes two or more sequences, returns list of tuple pairs\n",
    " 13. for pair in zip(s, t) /n print(pair)\n",
    " 13. This is an iterator: object that iterates through a sequence\n",
    " 13. list(zip(s,t)): returns list of tuple pairs\n",
    "14. Enumerate: find index and element of sequence\n",
    "15. dictionary items method: d.items()\n",
    " 15. Returns list of pair of key and value\n",
    "16. Use tuple as dictionary key\n",
    " 16. d[last, first] = telephone_number"
   ]
  },
  {
   "cell_type": "markdown",
   "metadata": {},
   "source": [
    "A tuple is a list of values that cannot be changed. It is a list of a bunch of different types of values (could be one or many types) separated by commas."
   ]
  },
  {
   "cell_type": "markdown",
   "metadata": {},
   "source": [
    " "
   ]
  },
  {
   "cell_type": "markdown",
   "metadata": {
    "is_question": true,
    "problem": "Exercise 12.1"
   },
   "source": [
    "### Chapter 12.4  \n",
    "\n",
    "Many of the built-in functions use variable-length argument tuples. For example, `max` and `min` can take any number of arguments:\n",
    "\n",
    "```\n",
    ">>> max(1,2,3)\n",
    "3\n",
    "```\n",
    "\n",
    "But `sum` does not.\n",
    "\n",
    "```\n",
    ">>> sum(1,2,3)\n",
    "TypeError: sum expected at most 2 arguments, got 3\n",
    "```\n",
    "\n",
    "Write a function called ```sumall``` that takes any number of arguments and returns their sum. \n",
    "\n",
    "Write unit tests for your function. Do I actually need to keep saying this? Let's assume it's always a good idea :)"
   ]
  },
  {
   "cell_type": "code",
   "execution_count": 37,
   "metadata": {
    "collapsed": false,
    "solution": "Exercise 12.1"
   },
   "outputs": [
    {
     "data": {
      "text/plain": [
       "15"
      ]
     },
     "execution_count": 37,
     "metadata": {},
     "output_type": "execute_result"
    }
   ],
   "source": [
    "def sumall(*args):\n",
    "    sums = sum(args)\n",
    "    return sums\n",
    "\n",
    "sumall(1, 2, 3, 4, 5)"
   ]
  },
  {
   "cell_type": "markdown",
   "metadata": {},
   "source": [
    "If you're interested in more flexible ways to pass arguments to functions, check out the [Python tutorial](https://docs.python.org/3/tutorial/controlflow.html#more-on-defining-functions). For instance, you can also use keyword arguments, which are collected into a dictionary just like `*` gathers variable numbers of positional arguments into a tuple.\n",
    "\n",
    "This pattern is very common for defining functions with complex optional behaviors in Python, and you will often see definitions like:\n",
    "\n",
    "```\n",
    "def my_func(required_argument1, *arguments, **keywords):\n",
    "    ...\n",
    "```"
   ]
  },
  {
   "cell_type": "markdown",
   "metadata": {},
   "source": [
    " "
   ]
  },
  {
   "cell_type": "markdown",
   "metadata": {
    "is_question": true,
    "problem": "Exercise 12 sort"
   },
   "source": [
    "### Exercise\n",
    "\n",
    "Write a function `sort_by_last_letter` that takes a list of words and returns a new list with the words sorted alphabetically by the _last letter_ in the word. Hint: use the **Decorate, Sort, Undecorate** pattern. Write unit tests for your function."
   ]
  },
  {
   "cell_type": "code",
   "execution_count": 61,
   "metadata": {
    "collapsed": false,
    "solution": "Exercise 12 sort"
   },
   "outputs": [
    {
     "data": {
      "text/plain": [
       "['walls', 'cat', 'zaz']"
      ]
     },
     "execution_count": 61,
     "metadata": {},
     "output_type": "execute_result"
    }
   ],
   "source": [
    "def sort_by_last_letter(lists):\n",
    "    tuples = tuple(lists)\n",
    "    list_of_words = []\n",
    "    for words in lists:\n",
    "        list_of_words.append((words[-1], words))\n",
    "    list_of_words.sort()\n",
    "    final_list = []\n",
    "    for words in list_of_words:\n",
    "        final_list.append(words[1])\n",
    "    return final_list\n",
    "sort_by_last_letter([\"zaz\", \"walls\", \"cat\"])"
   ]
  },
  {
   "cell_type": "markdown",
   "metadata": {},
   "source": [
    " "
   ]
  },
  {
   "cell_type": "markdown",
   "metadata": {},
   "source": [
    "**Quick check** Give an example of when you might use each sequence type:\n",
    "\n",
    "- tuple\n",
    "\n",
    "- list\n",
    "\n",
    "- string"
   ]
  },
  {
   "cell_type": "markdown",
   "metadata": {},
   "source": [
    "Tuple: When you want to include more than 1 item as a key in a dictionary\n",
    "List: When you want to be able to change elements in a collection of values\n",
    "String: When you only have 1 value and don't want the extra complexity of a tuple or list"
   ]
  },
  {
   "cell_type": "markdown",
   "metadata": {},
   "source": [
    " "
   ]
  },
  {
   "cell_type": "markdown",
   "metadata": {
    "is_question": true,
    "problem": "Exercise 12.3"
   },
   "source": [
    "### Exercise 12.1 \n",
    "\n",
    "Write a function called `most_frequent` that takes a string and prints the letters in decreasing order of frequency. Find text samples from several different languages and see how letter frequency varies between languages. Compare your results with the tables at http://en.wikipedia.org/wiki/Letter_frequencies. \n",
    "\n",
    "Allen's solution (try it on your own first): http://greenteapress.com/thinkpython2/code/most_frequent.py. "
   ]
  },
  {
   "cell_type": "code",
   "execution_count": 3,
   "metadata": {
    "collapsed": false,
    "solution": "Exercise 12.3"
   },
   "outputs": [
    {
     "name": "stdout",
     "output_type": "stream",
     "text": [
      "[('a', '8.55%'), ('d', '4.21%'), ('e', '12.84%'), ('f', '2.29%'), ('g', '2.3%'), ('h', '6.86%'), ('i', '7.13%'), ('j', '0.13%'), ('k', '0.89%'), ('l', '4.68%'), ('m', '2.54%'), ('n', '7.18%'), ('o', '7.64%'), ('p', '1.9%'), ('q', '0.17%'), ('r', '5.77%'), ('s', '7.0%'), ('t', '9.6%'), ('u', '2.93%'), ('v', '0.94%'), ('w', '2.44%'), ('x', '0.11%'), ('y', '1.86%'), ('z', '0.07%')]\n",
      "[('a', '13.93%'), ('d', '5.34%'), ('e', '14.07%'), ('f', '0.62%'), ('g', '1.23%'), ('h', '1.29%'), ('i', '5.37%'), ('j', '0.52%'), ('k', '0.08%'), ('l', '6.21%'), ('m', '3.08%'), ('n', '7.52%'), ('o', '9.69%'), ('p', '2.72%'), ('q', '1.12%'), ('r', '6.99%'), ('s', '8.16%'), ('t', '4.7%'), ('u', '4.47%'), ('v', '1.2%'), ('w', '0.02%'), ('x', '0.17%'), ('y', '1.02%'), ('z', '0.49%'), ('á', '0.57%'), ('é', '0.39%'), ('í', '0.73%'), ('ñ', '0.18%'), ('ó', '0.57%'), ('ú', '0.12%'), ('ü', '0.0%')]\n"
     ]
    }
   ],
   "source": [
    "def read_file2(filename):\n",
    "    \"\"\"Returns the contents of a file as a string.\"\"\"\n",
    "    all_words = open(filename).read()\n",
    "    a = all_words.split('\\n')\n",
    "   # return all_words\n",
    "\n",
    "def read_file(filename):\n",
    "    \"\"\"Returns the contents of a file as a string.\"\"\"\n",
    "       \n",
    "    all_words = ''\n",
    "    possible_palindromes = open(filename)\n",
    "    for line in possible_palindromes:\n",
    "        line = str(possible_palindromes.readline())\n",
    "        line = line.lower()\n",
    "        #print(line)\n",
    "        line2 = line.strip(\"a\")\n",
    "        #print(line2)\n",
    "        all_words = all_words + line\n",
    "    \n",
    "    #print(all_words)\n",
    "    histogram(all_words)\n",
    "    #return all_words\n",
    "\n",
    "\n",
    "def histogram(s):\n",
    "    d = dict()\n",
    "    new_list = []\n",
    "    for c in s:\n",
    "        if c not in ('a', 'b' 'c', 'd', 'e', 'f', 'g', 'h', 'i', 'j', 'k', 'l', 'm', 'n', 'o', 'p', 'q', 'r', 's', 't', 'u', 'v', 'w', 'x', 'y', 'z'):\n",
    "            pass\n",
    "        else:    \n",
    "            new_list.append(c)\n",
    "        w = d.get(c, 0)\n",
    "        d[c] = w + 1\n",
    "    list_of_characters = []\n",
    "    for key in d:\n",
    "        if key not in ('a', 'á', 'b' 'c', 'd', 'e', 'é', 'f', 'g', 'h', 'i', 'í', 'j', 'k', 'l', 'm', 'n', 'ñ', 'o', 'ó', 'p', 'q', 'r', 's', 't', 'u', 'ú', 'ü', 'v', 'w', 'x', 'y', 'z'):\n",
    "            pass\n",
    "        else:    \n",
    "            list_of_characters.append((d[key], key))\n",
    "    list_of_characters.sort(reverse = True)\n",
    "    final_list = []\n",
    "    final_list_with_percent = []\n",
    "    for tuples in list_of_characters:\n",
    "        final_list.append(tuples[1])\n",
    "        final_list_with_percent.append((tuples[1], str(float(\"{0:.2f}\".format(tuples[0]/len(new_list)*100))) + '%'))\n",
    "    final_list_with_percent.sort()\n",
    "    print(final_list_with_percent)\n",
    "\n",
    "read_file('Moby Dick')\n",
    "read_file('Moby Dick Spanish')"
   ]
  },
  {
   "cell_type": "markdown",
   "metadata": {},
   "source": [
    " "
   ]
  },
  {
   "cell_type": "markdown",
   "metadata": {
    "is_question": true,
    "problem": "Exercise 12.6"
   },
   "source": [
    "### Challenge: Exercise 12.4   (optional)\n",
    "\n",
    "From a [Car Talk Puzzler](http://www.cartalk.com/content/puzzlers):\n",
    "\n",
    "What is the longest English word, that remains a valid English word, as you remove its letters one at a time?\n",
    "\n",
    "Now, letters can be removed from either end, or the middle, but you can’t rearrange any of the letters. Every time you drop a letter, you wind up with another English word. If you do that, you’re eventually going to wind up with one letter and that too is going to be an English word—one that’s found in the dictionary. I want to know what’s the longest word and how many letters does it have?\n",
    "\n",
    "I’m going to give you a little modest example: Sprite. Ok? You start off with sprite, you take a letter off, one from the interior of the word, take the r away, and we’re left with the word spite, then we take the e off the end, we’re left with spit, we take the s off, we’re left with pit, it, and I. \n",
    "\n",
    "Write a program to find all words that can be reduced in this way, and then find the longest one.\n",
    "\n",
    "This exercise is a little more challenging than most, so here are some suggestions:\n",
    "\n",
    "- You might want to write a function that takes a word and computes a list of all the words that can be formed by removing one letter. These are the “children” of the word.\n",
    "- Recursively, a word is reducible if any of its children are reducible. As a base case, you can consider the empty string reducible.\n",
    "- The word list from [Chapter 9.1](http://www.greenteapress.com/thinkpython2/html/thinkpython2010.html) Exercise 1 doesn’t contain single letter words. So you might want to add “I”, “a”, and the empty string.\n",
    "- To improve the performance of your program, you might want to memoize the words that are known to be reducible.\n",
    "\n",
    "Allen's solution: http://greenteapress.com/thinkpython2/code/reducible.py."
   ]
  },
  {
   "cell_type": "code",
   "execution_count": null,
   "metadata": {
    "collapsed": true,
    "solution": "Exercise 12.6"
   },
   "outputs": [],
   "source": []
  },
  {
   "cell_type": "markdown",
   "metadata": {},
   "source": [
    " "
   ]
  },
  {
   "cell_type": "markdown",
   "metadata": {
    "is_question": true,
    "problem": "Feedback"
   },
   "source": [
    "## Reading Journal feedback\n",
    "\n",
    "[Please complete this short survey](https://docs.google.com/forms/d/e/1FAIpQLScQekhUrf6YYjpfQiAAbavLIA-IJklv_PX1BWbGgxj7JPolmw/viewform?c=0&w=1)\n",
    "\n",
    "If you have any comments on this Reading Journal, feel free to leave them in the survey linked above. This could include suggestions to improve the exercises, topics you'd like to see covered in class next time, or other feedback.\n",
    "\n",
    "If you have Python questions or run into problems while completing the reading, you should post them to Piazza instead so you can get a quick response before your journal is submitted."
   ]
  },
  {
   "cell_type": "markdown",
   "metadata": {
    "feedback_response": true,
    "solution": "Feedback"
   },
   "source": [
    " "
   ]
  }
 ],
 "metadata": {
  "kernelspec": {
   "display_name": "Python 3",
   "language": "python",
   "name": "python3"
  },
  "language_info": {
   "codemirror_mode": {
    "name": "ipython",
    "version": 3
   },
   "file_extension": ".py",
   "mimetype": "text/x-python",
   "name": "python",
   "nbconvert_exporter": "python",
   "pygments_lexer": "ipython3",
   "version": "3.5.2"
  }
 },
 "nbformat": 4,
 "nbformat_minor": 0
}
